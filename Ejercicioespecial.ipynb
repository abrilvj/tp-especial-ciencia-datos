{
 "cells": [
  {
   "cell_type": "markdown",
   "metadata": {},
   "source": [
    "TP ESPECIAL FUNDAMENTOS DE LA CIENCIA DE DATOS 2024 \n",
    "\n",
    "DATASET: CALIDAD DE AGUA DEL RÍO DE LA PLATA - 2022\n",
    "\n",
    "INTEGRANTES:\n"
   ]
  },
  {
   "cell_type": "code",
   "execution_count": 15,
   "metadata": {},
   "outputs": [],
   "source": [
    "import pandas as pd"
   ]
  },
  {
   "cell_type": "code",
   "execution_count": 16,
   "metadata": {},
   "outputs": [
    {
     "data": {
      "text/plain": [
       "'2.2.3'"
      ]
     },
     "execution_count": 16,
     "metadata": {},
     "output_type": "execute_result"
    }
   ],
   "source": [
    "pd.__version__"
   ]
  },
  {
   "cell_type": "code",
   "execution_count": 18,
   "metadata": {},
   "outputs": [],
   "source": [
    "raw_dataset = pd.read_csv(\"Calidad_de_agua_2022.csv\", sep =\";\")"
   ]
  },
  {
   "cell_type": "markdown",
   "metadata": {},
   "source": [
    "Leemos el dataset que nos toco y le pedimos un poco de informacion para analizar contexto"
   ]
  },
  {
   "cell_type": "code",
   "execution_count": 20,
   "metadata": {},
   "outputs": [
    {
     "name": "stdout",
     "output_type": "stream",
     "text": [
      "<class 'pandas.core.frame.DataFrame'>\n",
      "RangeIndex: 168 entries, 0 to 167\n",
      "Data columns (total 31 columns):\n",
      " #   Column                   Non-Null Count  Dtype \n",
      "---  ------                   --------------  ----- \n",
      " 0   orden                    168 non-null    int64 \n",
      " 1   sitios                   168 non-null    object\n",
      " 2   codigo                   168 non-null    object\n",
      " 3   fecha                    168 non-null    object\n",
      " 4   año                      168 non-null    object\n",
      " 5   campaña                  168 non-null    object\n",
      " 6   tem_agua                 168 non-null    object\n",
      " 7   tem_aire                 166 non-null    object\n",
      " 8   od                       168 non-null    object\n",
      " 9   ph                       168 non-null    object\n",
      " 10  olores                   168 non-null    object\n",
      " 11  color                    168 non-null    object\n",
      " 12  espumas                  168 non-null    object\n",
      " 13  mat_susp                 168 non-null    object\n",
      " 14  colif_fecales_ufc_100ml  167 non-null    object\n",
      " 15  escher_coli_ufc_100ml    167 non-null    object\n",
      " 16  enteroc_ufc_100ml        167 non-null    object\n",
      " 17  nitrato_mg_l             168 non-null    object\n",
      " 18  nh4_mg_l                 168 non-null    object\n",
      " 19  p_total_l_mg_l           168 non-null    object\n",
      " 20  fosf_ortofos_mg_l        168 non-null    object\n",
      " 21  dbo_mg_l                 167 non-null    object\n",
      " 22  dqo_mg_l                 168 non-null    object\n",
      " 23  turbiedad_ntu            168 non-null    object\n",
      " 24  hidr_deriv_petr_ug_l     168 non-null    object\n",
      " 25  cr_total_mg_l            168 non-null    object\n",
      " 26  cd_total_mg_l            168 non-null    object\n",
      " 27  clorofila_a_ug_l         167 non-null    object\n",
      " 28  microcistina_ug_l        168 non-null    object\n",
      " 29  ica                      155 non-null    object\n",
      " 30  calidad_de_agua          154 non-null    object\n",
      "dtypes: int64(1), object(30)\n",
      "memory usage: 40.8+ KB\n"
     ]
    }
   ],
   "source": [
    "raw_dataset.info()"
   ]
  }
 ],
 "metadata": {
  "kernelspec": {
   "display_name": "practicoespecialvenv",
   "language": "python",
   "name": "python3"
  },
  "language_info": {
   "codemirror_mode": {
    "name": "ipython",
    "version": 3
   },
   "file_extension": ".py",
   "mimetype": "text/x-python",
   "name": "python",
   "nbconvert_exporter": "python",
   "pygments_lexer": "ipython3",
   "version": "3.12.2"
  }
 },
 "nbformat": 4,
 "nbformat_minor": 2
}
